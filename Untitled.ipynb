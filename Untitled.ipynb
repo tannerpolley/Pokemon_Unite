{
 "cells": [
  {
   "cell_type": "code",
   "execution_count": 1,
   "id": "e6124133-84a4-4473-bcd9-9335ddaa575c",
   "metadata": {},
   "outputs": [
    {
     "name": "stdout",
     "output_type": "stream",
     "text": [
      "Requirement already satisfied: lxml in c:\\users\\tanner\\appdata\\roaming\\jupyterlab-desktop\\jlab_server\\lib\\site-packages (5.2.2)\n"
     ]
    }
   ],
   "source": [
    "import pandas as pd\n"
   ]
  },
  {
   "cell_type": "code",
   "execution_count": 3,
   "id": "e70ce864-d68e-4f5b-94c1-f9963c98d93a",
   "metadata": {},
   "outputs": [
    {
     "data": {
      "text/plain": [
       "[  Pokémon Sort table by Pokémon in descending order  \\\n",
       " 0                                  No Results Found   \n",
       " \n",
       "   HP Sort table by HP in descending order  \\\n",
       " 0                        No Results Found   \n",
       " \n",
       "   Attack Sort table by Attack in descending order  \\\n",
       " 0                                No Results Found   \n",
       " \n",
       "   Defense Sort table by Defense in descending order  \\\n",
       " 0                                  No Results Found   \n",
       " \n",
       "   Sp. Attack Sort table by Sp. Attack in descending order  \\\n",
       " 0                                   No Results Found        \n",
       " \n",
       "   Sp. Def Sort table by Sp. Def in descending order  \\\n",
       " 0                                  No Results Found   \n",
       " \n",
       "   Crit Rate Sort table by Crit Rate in descending order  \\\n",
       " 0                                   No Results Found      \n",
       " \n",
       "   CDR Sort table by CDR in descending order  \\\n",
       " 0                          No Results Found   \n",
       " \n",
       "   Lifesteal Sort table by Lifesteal in descending order  \\\n",
       " 0                                   No Results Found      \n",
       " \n",
       "   AttackSpeed Sort table by AttackSpeed in descending order  \\\n",
       " 0                                   No Results Found          \n",
       " \n",
       "   MoveSpeed Sort table by MoveSpeed in descending order  \n",
       " 0                                   No Results Found     ]"
      ]
     },
     "metadata": {},
     "output_type": "display_data"
    }
   ],
   "source": [
    "df = pd.read_html('https://unite-db.com/stats')\n",
    "display(df)"
   ]
  }
 ],
 "metadata": {
  "kernelspec": {
   "display_name": "Python 3 (ipykernel)",
   "language": "python",
   "name": "python3"
  },
  "language_info": {
   "codemirror_mode": {
    "name": "ipython",
    "version": 3
   },
   "file_extension": ".py",
   "mimetype": "text/x-python",
   "name": "python",
   "nbconvert_exporter": "python",
   "pygments_lexer": "ipython3",
   "version": "3.8.13"
  }
 },
 "nbformat": 4,
 "nbformat_minor": 5
}
